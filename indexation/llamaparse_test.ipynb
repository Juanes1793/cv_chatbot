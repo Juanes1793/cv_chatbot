{
 "cells": [
  {
   "cell_type": "code",
   "execution_count": 1,
   "metadata": {},
   "outputs": [],
   "source": [
    "import nest_asyncio\n",
    "from pathlib import Path\n",
    "from dotenv import dotenv_values\n",
    "from llama_parse import LlamaParse\n",
    "\n",
    "import os\n",
    "nest_asyncio.apply()"
   ]
  },
  {
   "cell_type": "code",
   "execution_count": 5,
   "metadata": {},
   "outputs": [],
   "source": [
    "# set the environment variables\n",
    "BASE_DIR = Path.cwd().parent\n",
    "DATA_DIR = BASE_DIR / \"data\"\n",
    "MARKDOWN_FILES = DATA_DIR / \"markdown files\"\n",
    "ENV_VARIABLES = {\n",
    "    **dotenv_values(BASE_DIR / \".env\"),\n",
    "    **os.environ\n",
    "}"
   ]
  },
  {
   "cell_type": "code",
   "execution_count": 3,
   "metadata": {},
   "outputs": [],
   "source": [
    "prompt_instruction = \"\"\"\n",
    "Objective: Extract structured information from the document, including text, tables, and images. Follow the instructions below for each type of content:\n",
    "\n",
    "Plain Text Extraction:\n",
    "\n",
    "Extract all meaningful textual content from the document while preserving its logical structure.\n",
    "Maintain headings, subheadings, and paragraph separation.\n",
    "Remove irrelevant metadata or boilerplate text (e.g., page numbers, headers, and footers).\n",
    "Table Extraction:\n",
    "\n",
    "Identify and extract tables from the document.\n",
    "Preserve the structure of rows and columns.\n",
    "Ensure that numerical values, dates, and categorical data remain in their original format.\n",
    "If a table spans multiple pages, reconstruct it correctly.\n",
    "Image Processing:\n",
    "\n",
    "If the document contains images, generate a textual description of each image.\n",
    "Describe key elements, objects, and any visible text within the image.\n",
    "If the image contains a chart or diagram, summarize its key information.\n",
    "\n",
    "\n",
    "\"\"\""
   ]
  },
  {
   "cell_type": "code",
   "execution_count": 6,
   "metadata": {},
   "outputs": [
    {
     "name": "stdout",
     "output_type": "stream",
     "text": [
      "WARNING: parsing_instruction is deprecated. Use complemental_formatting_instruction or content_guideline_instruction instead.\n",
      "Started parsing the file under job_id d04b8045-6480-4681-8c30-b43a02acac7a\n",
      "."
     ]
    }
   ],
   "source": [
    "# Extract the information from the document and save it to a markdown file\n",
    "\n",
    "document = LlamaParse(\n",
    "    api_key= ENV_VARIABLES[\"LLAMA_PARSE_API_KEY\"],\n",
    "    result_type=\"markdown\",\n",
    "    #content_guideline_instruction=prompt_instruction\n",
    ").load_data(file_path= DATA_DIR / \"auge-de-los-llm.pdf\")\n",
    "\n",
    "\n",
    "string_variable = \"\"\n",
    "for doc in document:\n",
    "    string_variable += doc.text\n",
    "\n",
    "#save the string to a markdown file\n",
    "with open(MARKDOWN_FILES / \"auge-de-los-llm.md\", \"w\", encoding=\"utf-8\") as f:\n",
    "    f.write(string_variable)"
   ]
  },
  {
   "cell_type": "code",
   "execution_count": null,
   "metadata": {},
   "outputs": [],
   "source": []
  },
  {
   "cell_type": "code",
   "execution_count": null,
   "metadata": {},
   "outputs": [],
   "source": []
  }
 ],
 "metadata": {
  "kernelspec": {
   "display_name": ".venv",
   "language": "python",
   "name": "python3"
  },
  "language_info": {
   "codemirror_mode": {
    "name": "ipython",
    "version": 3
   },
   "file_extension": ".py",
   "mimetype": "text/x-python",
   "name": "python",
   "nbconvert_exporter": "python",
   "pygments_lexer": "ipython3",
   "version": "3.10.4"
  }
 },
 "nbformat": 4,
 "nbformat_minor": 2
}
