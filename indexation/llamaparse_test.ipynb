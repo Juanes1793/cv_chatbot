{
 "cells": [
  {
   "cell_type": "code",
   "execution_count": 1,
   "metadata": {},
   "outputs": [],
   "source": [
    "import nest_asyncio\n",
    "from pathlib import Path\n",
    "from dotenv import dotenv_values\n",
    "from llama_parse import LlamaParse\n",
    "\n",
    "import os\n",
    "nest_asyncio.apply()"
   ]
  },
  {
   "cell_type": "code",
   "execution_count": 2,
   "metadata": {},
   "outputs": [],
   "source": [
    "# set the environment variables\n",
    "BASE_DIR = Path.cwd().parent\n",
    "DATA_DIR = BASE_DIR / \"data\"\n",
    "ENV_VARIABLES = {\n",
    "    **dotenv_values(BASE_DIR / \".env\"),\n",
    "    **os.environ\n",
    "}"
   ]
  },
  {
   "cell_type": "code",
   "execution_count": 3,
   "metadata": {},
   "outputs": [],
   "source": [
    "prompt_instruction = \"\"\"\n",
    "Objective: Extract structured information from the document, including text, tables, and images. Follow the instructions below for each type of content:\n",
    "\n",
    "Plain Text Extraction:\n",
    "\n",
    "Extract all meaningful textual content from the document while preserving its logical structure.\n",
    "Maintain headings, subheadings, and paragraph separation.\n",
    "Remove irrelevant metadata or boilerplate text (e.g., page numbers, headers, and footers).\n",
    "Table Extraction:\n",
    "\n",
    "Identify and extract tables from the document.\n",
    "Preserve the structure of rows and columns.\n",
    "Ensure that numerical values, dates, and categorical data remain in their original format.\n",
    "If a table spans multiple pages, reconstruct it correctly.\n",
    "Image Processing:\n",
    "\n",
    "If the document contains images, generate a textual description of each image.\n",
    "Describe key elements, objects, and any visible text within the image.\n",
    "If the image contains a chart or diagram, summarize its key information.\n",
    "\n",
    "\n",
    "\"\"\""
   ]
  },
  {
   "cell_type": "code",
   "execution_count": 8,
   "metadata": {},
   "outputs": [
    {
     "name": "stdout",
     "output_type": "stream",
     "text": [
      "WARNING: parsing_instruction is deprecated. Use complemental_formatting_instruction or content_guideline_instruction instead.\n",
      "Started parsing the file under job_id 27c3c0c0-b332-4e67-abe2-038313a591be\n"
     ]
    }
   ],
   "source": [
    "# Extract the information from the document\n",
    "\n",
    "document = LlamaParse(\n",
    "    api_key= ENV_VARIABLES[\"LLAMA_PARSE_API_KEY\"],\n",
    "    result_type=\"markdown\",\n",
    "    #content_guideline_instruction=prompt_instruction\n",
    ").load_data(file_path= DATA_DIR / \"INFORME SPLIT NVIDIA.pdf\")"
   ]
  },
  {
   "cell_type": "code",
   "execution_count": 9,
   "metadata": {},
   "outputs": [
    {
     "data": {
      "text/plain": [
       "[Document(id_='7b8da8c8-807a-4be2-905f-dc54d451de97', embedding=None, metadata={}, excluded_embed_metadata_keys=[], excluded_llm_metadata_keys=[], relationships={}, metadata_template='{key}: {value}', metadata_separator='\\n', text_resource=MediaResource(embeddings=None, data=None, text='# NVIDIA\\n\\n| |220,3|~8,20| | | |\\n|---|---|---|---|---|---|\\n|01|AAPL|26|179,|15.41 00|48 496|\\n|SWDA00|Corporation|YTD|6634,C|+57,| |\\n|NVIDIA|\"|0M|476| | |\\n|3M|NVDA|+22,61|456| | |\\n|493,78USD|4m|20| | | |\\n|NASDAQ|4|40| | | |\\n|52 tyg:| |MAX {|6| | |\\n| | | |min MIN 52 tyg:|obr:|2|\\n\\n# SPLIT\\n\\n# NVIDIA\\n\\n# XTB LATAM', path=None, url=None, mimetype=None), image_resource=None, audio_resource=None, video_resource=None, text_template='{metadata_str}\\n\\n{content}'),\n",
       " Document(id_='ef785594-48c0-40fd-a9ec-d50c5d646b1a', embedding=None, metadata={}, excluded_embed_metadata_keys=[], excluded_llm_metadata_keys=[], relationships={}, metadata_template='{key}: {value}', metadata_separator='\\n', text_resource=MediaResource(embeddings=None, data=None, text='# NVIDIA\\n\\nCuando analizamos las acciones de mejor rendimiento en lo que va del año, observamos que NVIDIA destaca con un aumento del 138%, lo que contrasta significativamente con el rendimiento del índice de referencia S&P 500, que ha tenido un incremento de +11.40%.\\n\\nNVIDIA, fundada en 1993, revolucionó el mercado tecnológico con la invención de la GPU en 1999, lo que impulsó el crecimiento del mercado de videojuegos para PC y redefinió los gráficos por computadora. En 2024, NVIDIA se ha consolidado como líder en el sector de la inteligencia artificial (IA) y la computación acelerada. La compañía ha superado a gigantes tecnológicos, llegando a ser la cuarta empresa más valiosa de EE.UU. con una capitalización de mercado de $1.82 billones.\\n\\nLa importancia de NVIDIA en el sector tecnológico radica en su dominio del mercado de chips de IA, con una participación del 83% en este segmento. Sus productos, como los chips H100 y GH200, son fundamentales para el funcionamiento de servicios en empresas como Amazon, Google y Meta. Este liderazgo ha sido impulsado por un crecimiento de ingresos del 206% interanual, alcanzando $18.12 mil millones en el tercer trimestre del año fiscal 2024, reflejando la transición de la industria hacia la computación acelerada y la IA generativa.\\n\\nAunque cotizar en una industria de fuerte crecimiento tiende a mejorar las perspectivas de las acciones para los inversionistas, NVIDIA ha consolidado su estatus a través de la presentación de resultados sólidos y un liderazgo claro en su sector.', path=None, url=None, mimetype=None), image_resource=None, audio_resource=None, video_resource=None, text_template='{metadata_str}\\n\\n{content}'),\n",
       " Document(id_='c73a3d2d-a8e5-48a4-91d7-37f8d231dcd7', embedding=None, metadata={}, excluded_embed_metadata_keys=[], excluded_llm_metadata_keys=[], relationships={}, metadata_template='{key}: {value}', metadata_separator='\\n', text_resource=MediaResource(embeddings=None, data=None, text='# Resultados de ganancias del primer trimestre de Nvidia\\n\\nCuando observamos los resultados del primer trimestre, NVIDIA ha superado las expectativas de Wall Street con sus resultados trimestrales y ha anunciado una división de acciones de 10 a 1.\\n\\nPara el segundo trimestre del año fiscal 2025, la compañía espera ingresos de 28.000 millones de dólares, superando las proyecciones de los analistas. Durante el primer trimestre, NVIDIA reportó $6.12 ajustados por acción sobre ingresos de 26 mil millones de dólares, con un margen bruto ajustado del 78.9%. Los ingresos del segmento de juegos aumentaron un 18%, y los ingresos del centro de datos alcanzaron 22.600 millones, superando las expectativas.\\n\\nJensen Huang, CEO de NVIDIA, destacó que la compañía está liderando una revolución industrial al transformar los centros de datos tradicionales en fábricas de inteligencia artificial, promoviendo ganancias de productividad y eficiencia.\\n\\nSi bien los resultados y las expectativas futuras superaron el consenso del mercado, uno de los anuncios más relevantes fue la división de acciones de 10 a 1, conocido como split.\\n\\n# Q1 FY25 Financial Summary\\n\\n|Revenue| | | |GAAP| | |Non-GAAP| |\\n|---|---|---|---|---|---|---|---|---|\\n| | | | |01Fy25|YlY|01Fy25|YlY| |\\n| | | | |326,044|126,296|5526,042|26296| |\\n| | | |Gross Margin|78.44|4138pts|78.9%|412.1 pts| |\\n|Operating Income| | | |516,909|~69090|318,059|49290| |\\n| | | |Net Income|514,881|+6289|315,238|+46296| |\\n| | | |Diluted EPS|55.98|62990|56.12|14619| |\\n|Cash Flow from Ops| | | |315,345|4279|315,345|142790| |', path=None, url=None, mimetype=None), image_resource=None, audio_resource=None, video_resource=None, text_template='{metadata_str}\\n\\n{content}'),\n",
       " Document(id_='3bf6017b-6f35-4581-8f62-f7ed46681445', embedding=None, metadata={}, excluded_embed_metadata_keys=[], excluded_llm_metadata_keys=[], relationships={}, metadata_template='{key}: {value}', metadata_separator='\\n', text_resource=MediaResource(embeddings=None, data=None, text='# ¿Qué es un split de acciones?\\n\\nUn split de acciones es una acción corporativa en la cual una empresa divide sus acciones existentes en múltiples acciones. Este proceso no cambia el valor total de la inversión de los accionistas, pero reduce el precio de cada acción, haciendo que las acciones sean más accesibles para los inversores. Por ejemplo, si una empresa realiza un split 2 por 1, un accionista que poseía una acción a $100 ahora tendrá dos acciones, cada una valorada en $50. El valor total sigue siendo $100.\\n\\nNVIDIA anunció que llevará a cabo un split de acciones de 10 por 1, efectivo el 7 de junio de 2024. Esto significa que por cada acción que un inversor poseía antes del split, recibirá 10 acciones después del split. Si un inversor tenía una acción de NVIDIA valorada en $1,000 antes del split, después del split tendría 10 acciones, cada una valorada en aproximadamente $100. Este movimiento está diseñado para hacer que las acciones de NVIDIA sean más accesibles para un rango más amplio de inversores, ya que el precio alto de las acciones actuales puede ser un obstáculo para nuevos inversores.\\n\\n# NVIDIA\\n\\n# sefoRcE\\n\\n# GTX', path=None, url=None, mimetype=None), image_resource=None, audio_resource=None, video_resource=None, text_template='{metadata_str}\\n\\n{content}'),\n",
       " Document(id_='73f9d0cd-7345-4e6e-bb33-c8ef90734d32', embedding=None, metadata={}, excluded_embed_metadata_keys=[], excluded_llm_metadata_keys=[], relationships={}, metadata_template='{key}: {value}', metadata_separator='\\n', text_resource=MediaResource(embeddings=None, data=None, text='# ¿Por qué una empresa hace un split?\\n\\nLas empresas realizan splits de acciones por varios motivos estratégicos, con el objetivo principal de hacer sus acciones más accesibles a una base más amplia de inversores. Al reducir el precio de cada acción, los splits permiten a los inversores minoristas adquirir acciones que podrían haber sido demasiado costosas antes del split, aumentando así la liquidez y el atractivo de las acciones en el mercado.\\n\\nAdemás, un split puede ser parte de una estrategia corporativa para generar un efecto psicológico positivo, haciendo que las acciones parezcan más asequibles y fomentando una mayor participación del mercado. Este enfoque es especialmente relevante en contextos de mercado donde el precio elevado de las acciones puede disuadir a nuevos inversores y limitar la participación en la empresa.', path=None, url=None, mimetype=None), image_resource=None, audio_resource=None, video_resource=None, text_template='{metadata_str}\\n\\n{content}'),\n",
       " Document(id_='bdbb5602-6746-49bd-8b85-5fd7864408fe', embedding=None, metadata={}, excluded_embed_metadata_keys=[], excluded_llm_metadata_keys=[], relationships={}, metadata_template='{key}: {value}', metadata_separator='\\n', text_resource=MediaResource(embeddings=None, data=None, text='# ¿Qué podemos esperar para NVIDIA?\\n\\nEsta es la última semana en que NVIDIA negociará antes de su próxima división de acciones 10:1. Después de la apertura del mercado el lunes 10 de junio. El historial de divisiones de acciones de NVIDIA incluye: 2:1 en junio de 2000, 2:1 en septiembre de 2001, 2:1 en abril de 2006, 3:2 en septiembre de 2007, 4:1 en julio de 2021 y la próxima 10:1 el 10 de junio de 2024.\\n\\n# Doing the Splits\\n\\nNvidia could spur others in tech to follow, BofA suggests\\n\\n|NVIDIACorp|Last Price|\\n|---|---|\\n|Announces|1000|\\n|10-for-1 split|800|\\n|Announces| |\\n|4-for-1 split|600|\\n| |400|\\n| |200|\\n\\n2019   2020   2021   2022   2023   2024\\n\\nSource: Bloomberg\\n\\nEn el siguiente gráfico podemos observar el último split llevado a cabo por NVIDIA, que se realizó el 20 de julio de 2021. La acción mostró una revalorización de más del 80% en los meses posteriores a la división y de un 30% desde que se anunció el split el 21 de mayo de 2021.\\n\\n+30%9335 002014291\"12J0\\n\\nFuente: xStation', path=None, url=None, mimetype=None), image_resource=None, audio_resource=None, video_resource=None, text_template='{metadata_str}\\n\\n{content}'),\n",
       " Document(id_='c0521c2d-8867-4967-a69f-d35cb1b15ac0', embedding=None, metadata={}, excluded_embed_metadata_keys=[], excluded_llm_metadata_keys=[], relationships={}, metadata_template='{key}: {value}', metadata_separator='\\n', text_resource=MediaResource(embeddings=None, data=None, text='# Rendimientos Históricos de Splits de Acciones\\n\\n# Exhibit 1: Stocks that split tend to beat the index\\n\\nEl gráfico muestra los rendimientos promedio a 12 meses después de que se anuncia un split de acciones, comparando estos rendimientos con los del índice S&P 500 en diferentes periodos de tiempo:\\n\\n|Año|Rendimiento Promedio de Acciones que Realizaron Splits|Rendimiento del S&P 500|\\n|---|---|---|\\n|1980 a 1989 (Inflación cayendo)|26.0%|14.1%|\\n|1990 a 1999 (Economía fuerte)|35.8%|17.8%|\\n|2000 a 2009 (Estallido de burbujas)|-1.1%|9.5%|\\n|2010 a hoy (QE)|18.3%|13.3%|\\n|Todo el tiempo|25.4%|11.9%|\\n\\nSource: BofA Research Investment Committee; Bloomberg; Global Financial Data', path=None, url=None, mimetype=None), image_resource=None, audio_resource=None, video_resource=None, text_template='{metadata_str}\\n\\n{content}'),\n",
       " Document(id_='5b92bda4-cd3a-4210-bc29-0b94d59e671b', embedding=None, metadata={}, excluded_embed_metadata_keys=[], excluded_llm_metadata_keys=[], relationships={}, metadata_template='{key}: {value}', metadata_separator='\\n', text_resource=MediaResource(embeddings=None, data=None, text='# OTROS CASOS\\n\\n|EMPRESA|Anuncio del Split|Fecha del Split|Precio Inicial|Rendimiento del anuncio hasta la realización|\\n|---|---|---|---|---|\\n|TESLA|11 de agosto de 2020|31 de agosto de 2020|+81%|+33%|\\n|ALPHABET|1 de febrero de 2022|15 de julio de 2022|-9%|-6%|\\n|AMAZON|9 de marzo de 2022|3 de junio de 2022|30%|+2%|\\n|APPLE|30 de julio de 2020|31 de agosto de 2020|+34%|+11%|', path=None, url=None, mimetype=None), image_resource=None, audio_resource=None, video_resource=None, text_template='{metadata_str}\\n\\n{content}'),\n",
       " Document(id_='3a90a532-cd33-471f-a7a3-4e00e24d0ddb', embedding=None, metadata={}, excluded_embed_metadata_keys=[], excluded_llm_metadata_keys=[], relationships={}, metadata_template='{key}: {value}', metadata_separator='\\n', text_resource=MediaResource(embeddings=None, data=None, text='# Expectativas para NVIDIA\\n\\nBasándonos en el rendimiento histórico de los splits de acciones y el desempeño reciente de NVIDIA, podemos esperar varios resultados positivos tras su próxima división de acciones. La división de 10:1 aumentará la accesibilidad y liquidez, atrayendo a más inversores minoristas. Históricamente, las acciones que realizan splits tienden a superar al índice S&P 500, con un rendimiento promedio del 25.4% frente al 11.9% del índice.', path=None, url=None, mimetype=None), image_resource=None, audio_resource=None, video_resource=None, text_template='{metadata_str}\\n\\n{content}'),\n",
       " Document(id_='40d421a3-4c4d-4b29-b898-17534723276d', embedding=None, metadata={}, excluded_embed_metadata_keys=[], excluded_llm_metadata_keys=[], relationships={}, metadata_template='{key}: {value}', metadata_separator='\\n', text_resource=MediaResource(embeddings=None, data=None, text='Este informe es proporcionado únicamente con fines de información general y de marketing.\\n\\nCualquier opinión, análisis, precios u otro contenido no constituyen asesoramiento o recomendación de inversión.\\n\\nCualquier investigación ha sido preparada de acuerdo con los requisitos legales diseñados para promover la independencia de la investigación de inversión y se considera una comunicación de marketing.\\n\\nEl desempeño pasado no es necesariamente indicativo de resultados futuros, y cualquier persona actuando sobre esta información lo hace por completo y bajo su propio riesgo.\\n\\nXTB no aceptará ninguna responsabilidad por cualquier pérdida o daño, incluyendo, sin limitación, cualquier pérdida de beneficio, que pueda surgir directa o indirectamente del uso o dependencia de dicha información.\\n\\nLa negociación de productos apalancados puede comportar un alto nivel de riesgo. Las pérdidas pueden exceder sus depósitos y se le puede requerir hacer otros pagos. Estos productos pueden no ser adecuados para todos los clientes, por favor, comprenda los riesgos y busque asesoramiento independiente.', path=None, url=None, mimetype=None), image_resource=None, audio_resource=None, video_resource=None, text_template='{metadata_str}\\n\\n{content}'),\n",
       " Document(id_='77683ac0-2e37-476e-84e6-5cfd5ad62b3d', embedding=None, metadata={}, excluded_embed_metadata_keys=[], excluded_llm_metadata_keys=[], relationships={}, metadata_template='{key}: {value}', metadata_separator='\\n', text_resource=MediaResource(embeddings=None, data=None, text='  xtb\\nWWWXTB.COMYLAT', path=None, url=None, mimetype=None), image_resource=None, audio_resource=None, video_resource=None, text_template='{metadata_str}\\n\\n{content}')]"
      ]
     },
     "execution_count": 9,
     "metadata": {},
     "output_type": "execute_result"
    }
   ],
   "source": [
    "document"
   ]
  },
  {
   "cell_type": "code",
   "execution_count": 10,
   "metadata": {},
   "outputs": [],
   "source": [
    "string_variable = \"\"\n",
    "for doc in document:\n",
    "    string_variable += doc.text\n",
    "\n",
    "#save the string to a markdown file\n",
    "with open(DATA_DIR / \"INFORME SPLIT NVIDIA.md\", \"w\", encoding=\"utf-8\") as f:\n",
    "    f.write(string_variable)"
   ]
  },
  {
   "cell_type": "code",
   "execution_count": null,
   "metadata": {},
   "outputs": [],
   "source": []
  }
 ],
 "metadata": {
  "kernelspec": {
   "display_name": ".venv",
   "language": "python",
   "name": "python3"
  },
  "language_info": {
   "codemirror_mode": {
    "name": "ipython",
    "version": 3
   },
   "file_extension": ".py",
   "mimetype": "text/x-python",
   "name": "python",
   "nbconvert_exporter": "python",
   "pygments_lexer": "ipython3",
   "version": "3.10.4"
  }
 },
 "nbformat": 4,
 "nbformat_minor": 2
}
